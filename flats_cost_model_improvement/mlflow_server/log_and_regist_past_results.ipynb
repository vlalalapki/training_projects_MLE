{
 "cells": [
  {
   "cell_type": "code",
   "execution_count": 1,
   "metadata": {},
   "outputs": [
    {
     "data": {
      "text/plain": [
       "True"
      ]
     },
     "execution_count": 1,
     "metadata": {},
     "output_type": "execute_result"
    }
   ],
   "source": [
    "import json\n",
    "import os\n",
    "import pathlib\n",
    "\n",
    "import joblib\n",
    "import mlflow\n",
    "import pandas as pd\n",
    "from dotenv import load_dotenv\n",
    "from mlflow import MlflowClient\n",
    "\n",
    "load_dotenv()"
   ]
  },
  {
   "cell_type": "code",
   "execution_count": null,
   "metadata": {},
   "outputs": [],
   "source": [
    "data_path = pathlib.Path(\n",
    "    \"/home/mle-user/mle_projects/project-sprint-1/mle-project-sprint-1-v001/part2_dvc/data/initial_data.csv\"\n",
    ")\n",
    "model_path = pathlib.Path(\n",
    "    \"/home/mle-user/mle_projects/project-sprint-1/mle-project-sprint-1-v001/part2_dvc/models/fitted_model.pkl\"\n",
    ")\n",
    "results_path = pathlib.Path(\n",
    "    \"/home/mle-user/mle_projects/project-sprint-1/mle-project-sprint-1-v001/part2_dvc/cv_results/cv_res.json\"\n",
    ")\n",
    "\n",
    "initial_df = pd.read_csv(data_path)\n",
    "with open(model_path, \"rb\") as fd:\n",
    "    model = joblib.load(fd)\n",
    "with open(results_path, \"r\") as fd:\n",
    "    metrics = json.load(fd)"
   ]
  },
  {
   "cell_type": "code",
   "execution_count": 3,
   "metadata": {},
   "outputs": [],
   "source": [
    "TRACKING_SERVER_HOST = \"127.0.0.1\"\n",
    "TRACKING_SERVER_PORT = 5000\n",
    "\n",
    "os.environ[\"MLFLOW_S3_ENDPOINT_URL\"] = \"https://storage.yandexcloud.net\"\n",
    "os.environ[\"AWS_ACCESS_KEY_ID\"] = os.getenv(\"AWS_ACCESS_KEY_ID\")\n",
    "os.environ[\"AWS_SECRET_ACCESS_KEY\"] = os.getenv(\"AWS_SECRET_ACCESS_KEY\")\n",
    "\n",
    "mlflow.set_tracking_uri(f\"http://{TRACKING_SERVER_HOST}:{TRACKING_SERVER_PORT}\")\n",
    "mlflow.set_registry_uri(f\"http://{TRACKING_SERVER_HOST}:{TRACKING_SERVER_PORT}\")"
   ]
  },
  {
   "cell_type": "code",
   "execution_count": 4,
   "metadata": {},
   "outputs": [
    {
     "name": "stderr",
     "output_type": "stream",
     "text": [
      "/home/mle-user/mle_projects/mle-project-sprint-2-v001/.venv_project2/lib/python3.10/site-packages/mlflow/models/signature.py:212: UserWarning: Hint: Inferred schema contains integer column(s). Integer columns in Python cannot represent missing values. If your input data contains missing values at inference time, it will be encoded as floats and will cause a schema enforcement error. The best way to avoid this problem is to infer the model schema based on a realistic data sample (training dataset) that includes missing values. Alternatively, you can declare integer columns as doubles (float64) whenever these columns may have missing values. See `Handling Integers With Missing Values <https://www.mlflow.org/docs/latest/models.html#handling-integers-with-missing-values>`_ for more details.\n",
      "  inputs = _infer_schema(model_input) if model_input is not None else None\n",
      "/home/mle-user/mle_projects/mle-project-sprint-2-v001/.venv_project2/lib/python3.10/site-packages/mlflow/models/signature.py:213: UserWarning: Hint: Inferred schema contains integer column(s). Integer columns in Python cannot represent missing values. If your input data contains missing values at inference time, it will be encoded as floats and will cause a schema enforcement error. The best way to avoid this problem is to infer the model schema based on a realistic data sample (training dataset) that includes missing values. Alternatively, you can declare integer columns as doubles (float64) whenever these columns may have missing values. See `Handling Integers With Missing Values <https://www.mlflow.org/docs/latest/models.html#handling-integers-with-missing-values>`_ for more details.\n",
      "  outputs = _infer_schema(model_output) if model_output is not None else None\n"
     ]
    },
    {
     "name": "stdout",
     "output_type": "stream",
     "text": [
      "d831908157f043b4945723bf936727f3 base_pipe_model\n"
     ]
    },
    {
     "name": "stderr",
     "output_type": "stream",
     "text": [
      "Registered model 'base_model' already exists. Creating a new version of this model...\n",
      "2024/08/14 16:27:17 INFO mlflow.tracking._model_registry.client: Waiting up to 60 seconds for model version to finish creation. Model name: base_model, version 2\n",
      "Created version '2' of model 'base_model'.\n"
     ]
    }
   ],
   "source": [
    "EXPERIMENT_NAME = \"project_sprint_2_1\"\n",
    "RUN_NAME = \"base_pipe_model\"\n",
    "REGISTRY_MODEL_NAME = \"base_model\"\n",
    "\n",
    "X = initial_df.drop(\"target\", axis=1)\n",
    "y = initial_df[\"target\"]\n",
    "\n",
    "pip_requirements = \"../requirements.txt\"\n",
    "signature = mlflow.models.infer_signature(X[:10], y[:10])\n",
    "input_example = X[:10]\n",
    "\n",
    "experiment_id = mlflow.create_experiment(EXPERIMENT_NAME)\n",
    "\n",
    "with mlflow.start_run(run_name=RUN_NAME, experiment_id=experiment_id) as run:\n",
    "    run_id = run.info.run_id\n",
    "    print(run_id, RUN_NAME)\n",
    "\n",
    "    mlflow.log_metrics(metrics)\n",
    "\n",
    "    mlflow.log_artifact(data_path, \"dataframe\")\n",
    "\n",
    "    model_info = mlflow.sklearn.log_model(\n",
    "        sk_model=model,\n",
    "        artifact_path=\"models\",\n",
    "        registered_model_name=REGISTRY_MODEL_NAME,\n",
    "        signature=signature,\n",
    "        input_example=input_example,\n",
    "        await_registration_for=60,\n",
    "        pip_requirements=pip_requirements,\n",
    "    )"
   ]
  },
  {
   "cell_type": "code",
   "execution_count": 5,
   "metadata": {},
   "outputs": [],
   "source": [
    "client = MlflowClient()\n",
    "\n",
    "client.set_registered_model_tag(REGISTRY_MODEL_NAME, \"sprint\", \"project_2_1\")"
   ]
  },
  {
   "cell_type": "code",
   "execution_count": null,
   "metadata": {},
   "outputs": [],
   "source": [
    "metrics.update(\n",
    "    {\n",
    "        \"test_mse\": -metrics[\"test_neg_mean_squared_error\"],\n",
    "        \"test_mape\": -metrics[\"test_neg_mean_absolute_percentage_error\"],\n",
    "    }\n",
    ")"
   ]
  },
  {
   "cell_type": "code",
   "execution_count": 7,
   "metadata": {},
   "outputs": [
    {
     "name": "stdout",
     "output_type": "stream",
     "text": [
      "d831908157f043b4945723bf936727f3\n"
     ]
    }
   ],
   "source": [
    "run_id = \"d831908157f043b4945723bf936727f3\"\n",
    "with mlflow.start_run(run_id=run_id) as run:\n",
    "    mlflow.log_metrics(metrics)\n",
    "    mlflow.log_params(model.steps[1][1].get_params())\n",
    "    print(run_id)"
   ]
  },
  {
   "cell_type": "code",
   "execution_count": null,
   "metadata": {},
   "outputs": [],
   "source": []
  }
 ],
 "metadata": {
  "kernelspec": {
   "display_name": ".venv_project2",
   "language": "python",
   "name": "python3"
  },
  "language_info": {
   "codemirror_mode": {
    "name": "ipython",
    "version": 3
   },
   "file_extension": ".py",
   "mimetype": "text/x-python",
   "name": "python",
   "nbconvert_exporter": "python",
   "pygments_lexer": "ipython3",
   "version": "3.10.12"
  }
 },
 "nbformat": 4,
 "nbformat_minor": 2
}
